{
 "cells": [
  {
   "cell_type": "code",
   "execution_count": 7,
   "metadata": {},
   "outputs": [],
   "source": [
    "import pandas as pd\n",
    "import numpy as np\n",
    "import matplotlib.pyplot as plt\n",
    "import seaborn as sns\n",
    "\n",
    "from sklearn import datasets\n",
    "from sklearn.model_selection import train_test_split\n",
    "from sklearn.ensemble import RandomForestClassifier\n",
    "from sklearn.metrics import mean_squared_error as mse\n",
    "from sklearn.metrics import confusion_matrix\n"
   ]
  },
  {
   "cell_type": "markdown",
   "metadata": {},
   "source": [
    "## 1. Load the Iris data set"
   ]
  },
  {
   "cell_type": "code",
   "execution_count": 518,
   "metadata": {},
   "outputs": [],
   "source": [
    "# import some data to play with\n",
    "iris = datasets.load_iris()\n",
    "X = iris.data[:,:3]\n",
    "y = iris.target"
   ]
  },
  {
   "cell_type": "code",
   "execution_count": 299,
   "metadata": {},
   "outputs": [
    {
     "data": {
      "text/plain": [
       "(['sepal length (cm)',\n",
       "  'sepal width (cm)',\n",
       "  'petal length (cm)',\n",
       "  'petal width (cm)'],\n",
       " array(['setosa', 'versicolor', 'virginica'], dtype='<U10'))"
      ]
     },
     "execution_count": 299,
     "metadata": {},
     "output_type": "execute_result"
    }
   ],
   "source": [
    "iris.feature_names, iris.target_names"
   ]
  },
  {
   "cell_type": "code",
   "execution_count": 300,
   "metadata": {},
   "outputs": [],
   "source": [
    "X_train, X_test, y_train, y_test = train_test_split(X, y, test_size=0.3, random_state=123)"
   ]
  },
  {
   "cell_type": "code",
   "execution_count": 301,
   "metadata": {},
   "outputs": [
    {
     "data": {
      "text/plain": [
       "(1.0, 0.9111111111111111)"
      ]
     },
     "execution_count": 301,
     "metadata": {},
     "output_type": "execute_result"
    }
   ],
   "source": [
    "# Building Random Forest model\n",
    "model = RandomForestClassifier(random_state=123)\n",
    "model.fit(X_train, y_train)\n",
    "model.score(X_train, y_train), model.score(X_test, y_test)\n"
   ]
  },
  {
   "cell_type": "code",
   "execution_count": 302,
   "metadata": {},
   "outputs": [
    {
     "data": {
      "text/plain": [
       "array([[18,  0,  0],\n",
       "       [ 0,  9,  1],\n",
       "       [ 0,  3, 14]], dtype=int64)"
      ]
     },
     "execution_count": 302,
     "metadata": {},
     "output_type": "execute_result"
    }
   ],
   "source": [
    "y_pred=model.predict(X_test)\n",
    "confusion_matrix(y_test, y_pred)"
   ]
  },
  {
   "cell_type": "code",
   "execution_count": 303,
   "metadata": {},
   "outputs": [
    {
     "data": {
      "image/png": "[encoded data removed]",
      "text/plain": [
       "<Figure size 432x288 with 1 Axes>"
      ]
     },
     "metadata": {
      "needs_background": "light"
     },
     "output_type": "display_data"
    }
   ],
   "source": [
    "# Visualizing Feature Importance\n",
    "feat_importances = pd.Series(model.feature_importances_, index=iris.feature_names[:3])\n",
    "feat_importances.sort_values(ascending=False).plot(kind='barh')\n",
    "plt.show()\n",
    "#feat_importances.nlargest(len(feat_importances)).plot(kind='barh',figsize=(10,10))\n"
   ]
  },
  {
   "cell_type": "markdown",
   "metadata": {},
   "source": [
    "## 2. Synthesize a variable with missing values\n"
   ]
  },
  {
   "cell_type": "code",
   "execution_count": 304,
   "metadata": {},
   "outputs": [],
   "source": [
    "def setNA(data, col='sepal_length', p=0.2):\n",
    "    data['var_withNA'] = data[col] \n",
    "    idx = np.random.choice(len(data), size=int(len(data)*p), replace=False)\n",
    "    data['var_withNA'][idx]= np.nan\n",
    "    data['NA_indicator'] = np.where(data.var_withNA.isna(),1,0)\n",
    "    \n",
    "    return data"
   ]
  },
  {
   "cell_type": "code",
   "execution_count": 305,
   "metadata": {},
   "outputs": [],
   "source": [
    "data = pd.DataFrame(X, columns=['sepal_length','sepal_width', 'petal_length'])"
   ]
  },
  {
   "cell_type": "code",
   "execution_count": 306,
   "metadata": {},
   "outputs": [
    {
     "data": {
      "text/plain": [
       "['sepal length (cm)', 'sepal width (cm)', 'petal length (cm)']"
      ]
     },
     "execution_count": 306,
     "metadata": {},
     "output_type": "execute_result"
    }
   ],
   "source": [
    "iris.feature_names[:3]"
   ]
  },
  {
   "cell_type": "code",
   "execution_count": 323,
   "metadata": {},
   "outputs": [
    {
     "name": "stderr",
     "output_type": "stream",
     "text": [
      "<ipython-input-304-f6e97b736077>:4: SettingWithCopyWarning: \n",
      "A value is trying to be set on a copy of a slice from a DataFrame\n",
      "\n",
      "See the caveats in the documentation: https://pandas.pydata.org/pandas-docs/stable/user_guide/indexing.html#returning-a-view-versus-a-copy\n",
      "  data['var_withNA'][idx]= np.nan\n"
     ]
    },
    {
     "data": {
      "text/plain": [
       "sepal_length     0\n",
       "sepal_width      0\n",
       "petal_length     0\n",
       "var_withNA      60\n",
       "NA_indicator     0\n",
       "dtype: int64"
      ]
     },
     "execution_count": 323,
     "metadata": {},
     "output_type": "execute_result"
    }
   ],
   "source": [
    "col = 'petal_length'\n",
    "data = setNA(data, col=col, p=0.4)\n",
    "data.isna().sum()"
   ]
  },
  {
   "cell_type": "code",
   "execution_count": 324,
   "metadata": {},
   "outputs": [
    {
     "data": {
      "text/plain": [
       "sepal_length     0\n",
       "sepal_width      0\n",
       "petal_length     0\n",
       "var_withNA      60\n",
       "NA_indicator     0\n",
       "dtype: int64"
      ]
     },
     "execution_count": 324,
     "metadata": {},
     "output_type": "execute_result"
    }
   ],
   "source": [
    "data.isna().sum()"
   ]
  },
  {
   "cell_type": "markdown",
   "metadata": {},
   "source": [
    "## 3. Impute the missing values using\n",
    "\n",
    "1. `SimpleImputer`:   \n",
    "    a. Mean  \n",
    "    b. Median  \n",
    "    c. constant value = 0    \n",
    "    \n",
    "    \n",
    "    \n",
    "2. KNN imputation:  \n",
    "`KNNImputer`\n",
    "\n",
    "\n",
    "3. Multiple regression imputation:  \n",
    "\n",
    "`IterativeImputer` performs multiple regressions on random samples of the data and aggregates for imputing the missing values."
   ]
  },
  {
   "cell_type": "code",
   "execution_count": 325,
   "metadata": {},
   "outputs": [],
   "source": [
    "from sklearn.impute import SimpleImputer\n",
    "from sklearn.impute import KNNImputer"
   ]
  },
  {
   "cell_type": "code",
   "execution_count": 326,
   "metadata": {},
   "outputs": [],
   "source": [
    "# explicitly require this experimental feature\n",
    "from sklearn.experimental import enable_iterative_imputer  \n",
    "# now you can import normally from sklearn.impute\n",
    "from sklearn.impute import IterativeImputer"
   ]
  },
  {
   "cell_type": "code",
   "execution_count": 327,
   "metadata": {},
   "outputs": [
    {
     "data": {
      "text/plain": [
       "count    150.000000\n",
       "mean       3.758000\n",
       "std        1.765298\n",
       "min        1.000000\n",
       "25%        1.600000\n",
       "50%        4.350000\n",
       "75%        5.100000\n",
       "max        6.900000\n",
       "Name: petal_length, dtype: float64"
      ]
     },
     "execution_count": 327,
     "metadata": {},
     "output_type": "execute_result"
    }
   ],
   "source": [
    "data[col].describe()"
   ]
  },
  {
   "cell_type": "code",
   "execution_count": 328,
   "metadata": {},
   "outputs": [],
   "source": [
    "data_mean = data.drop(columns=[col, 'NA_indicator']).copy()\n",
    "data_mean.iloc[:,:] = SimpleImputer(strategy='mean').fit_transform(data_mean)"
   ]
  },
  {
   "cell_type": "code",
   "execution_count": 329,
   "metadata": {},
   "outputs": [],
   "source": [
    "data_median = data.drop(columns=[col, 'NA_indicator']).copy()\n",
    "data_median.iloc[:,:] = SimpleImputer(strategy='median').fit_transform(data_median)"
   ]
  },
  {
   "cell_type": "code",
   "execution_count": 330,
   "metadata": {},
   "outputs": [],
   "source": [
    "data_constant = data.drop(columns=[col, 'NA_indicator']).copy()\n",
    "data_constant.iloc[:,:] = SimpleImputer(strategy='constant', fill_value=0).fit_transform(data_constant)"
   ]
  },
  {
   "cell_type": "code",
   "execution_count": 331,
   "metadata": {},
   "outputs": [],
   "source": [
    "data_knn = data.drop(columns=[col, 'NA_indicator']).copy()\n",
    "data_knn.iloc[:,:] = KNNImputer().fit_transform(data_knn)"
   ]
  },
  {
   "cell_type": "code",
   "execution_count": 332,
   "metadata": {},
   "outputs": [
    {
     "data": {
      "text/plain": [
       "(   sepal_length  sepal_width  var_withNA\n",
       " 0           5.1          3.5    1.400000\n",
       " 1           4.9          3.0    2.246950\n",
       " 2           4.7          3.2    1.300000\n",
       " 3           4.6          3.1    1.595744\n",
       " 4           5.0          3.6    1.614520,\n",
       "    sepal_length  sepal_width  petal_length  var_withNA  NA_indicator\n",
       " 0           5.1          3.5           1.4         1.4             0\n",
       " 1           4.9          3.0           1.4         NaN             1\n",
       " 2           4.7          3.2           1.3         1.3             0\n",
       " 3           4.6          3.1           1.5         NaN             1\n",
       " 4           5.0          3.6           1.4         NaN             1)"
      ]
     },
     "execution_count": 332,
     "metadata": {},
     "output_type": "execute_result"
    }
   ],
   "source": [
    "data_reg = data.drop(columns=[col, 'NA_indicator']).copy()\n",
    "data_reg.iloc[:,:] = IterativeImputer().fit_transform(data_reg)\n",
    "data_reg.head(), data.head()"
   ]
  },
  {
   "cell_type": "code",
   "execution_count": 384,
   "metadata": {},
   "outputs": [
    {
     "data": {
      "image/png": "[encoded data removed]",
      "text/plain": [
       "<Figure size 720x432 with 1 Axes>"
      ]
     },
     "metadata": {
      "needs_background": "light"
     },
     "output_type": "display_data"
    }
   ],
   "source": [
    "fig, ax = plt.subplots(figsize=(10,6))\n",
    "sns.distplot(data[col])\n",
    "plt.axvline(data[col].mean(), color='red', label='mean')\n",
    "plt.axvline(data[col].median(), color='green', label='median')\n",
    "plt.legend()\n",
    "#sns.distplot(data_mean.var_withNA, label='mean imputation')\n",
    "#sns.kdeplot(data_median.var_withNA, label='median imputation')\n",
    "#sns.kdeplot(data_knn.var_withNA, label='KNN imputation', color='black')\n",
    "#sns.kdeplot(data_reg.var_withNA, label='Regression imputation', color='green')\n",
    "plt.show()"
   ]
  },
  {
   "cell_type": "code",
   "execution_count": 386,
   "metadata": {},
   "outputs": [
    {
     "data": {
      "image/png": "[encoded data removed]",
      "text/plain": [
       "<Figure size 720x432 with 1 Axes>"
      ]
     },
     "metadata": {
      "needs_background": "light"
     },
     "output_type": "display_data"
    }
   ],
   "source": [
    "fig, ax = plt.subplots(figsize=(10,6))\n",
    "sns.kdeplot(data[col], color='red', label='complete variable', linewidth=3)\n",
    "#sns.kdeplot(data_mean.var_withNA, label='mean imputation')\n",
    "#sns.kdeplot(data_median.var_withNA, label='median imputation')\n",
    "sns.kdeplot(data_knn.var_withNA, label='KNN imputation')\n",
    "sns.kdeplot(data_reg.var_withNA, label='Regression imputation', color='purple')\n",
    "plt.show()"
   ]
  },
  {
   "cell_type": "markdown",
   "metadata": {},
   "source": [
    "## 4. Using different imputation method in the ML model"
   ]
  },
  {
   "cell_type": "code",
   "execution_count": 519,
   "metadata": {},
   "outputs": [],
   "source": [
    "y = iris.target\n",
    "X_train, X_test, y_train, y_test = train_test_split(data, y, test_size=0.2, \n",
    "                                                    stratify=data.NA_indicator, random_state=5)"
   ]
  },
  {
   "cell_type": "code",
   "execution_count": 520,
   "metadata": {},
   "outputs": [
    {
     "data": {
      "text/plain": [
       "(sepal_length     0\n",
       " sepal_width      0\n",
       " var_withNA      48\n",
       " dtype: int64,\n",
       " sepal_length     0\n",
       " sepal_width      0\n",
       " var_withNA      12\n",
       " dtype: int64)"
      ]
     },
     "execution_count": 520,
     "metadata": {},
     "output_type": "execute_result"
    }
   ],
   "source": [
    "X_train = X_train.drop(columns=[col, 'NA_indicator'])\n",
    "X_test = X_test.drop(columns=[col, 'NA_indicator'])\n",
    "X_train.isna().sum(), X_test.isna().sum()"
   ]
  },
  {
   "cell_type": "code",
   "execution_count": 556,
   "metadata": {},
   "outputs": [
    {
     "data": {
      "text/plain": [
       "(150, 3)"
      ]
     },
     "execution_count": 556,
     "metadata": {},
     "output_type": "execute_result"
    }
   ],
   "source": [
    "X=data.drop(columns=[col, 'NA_indicator'])\n",
    "X.shape"
   ]
  },
  {
   "cell_type": "code",
   "execution_count": 522,
   "metadata": {},
   "outputs": [],
   "source": [
    "#y = y[X.var_withNA.notna()]\n",
    "#X = X.dropna()\n",
    "#y.shape, X.shape"
   ]
  },
  {
   "cell_type": "code",
   "execution_count": 523,
   "metadata": {},
   "outputs": [],
   "source": [
    "from sklearn.model_selection import cross_val_score\n",
    "from sklearn.pipeline import Pipeline"
   ]
  },
  {
   "cell_type": "code",
   "execution_count": 524,
   "metadata": {},
   "outputs": [],
   "source": [
    "model1=Pipeline([('imputation', SimpleImputer(strategy='mean')),\n",
    "                ('RF', RandomForestClassifier(random_state=123))])\n",
    "\n",
    "model2=Pipeline([('imputation', SimpleImputer(strategy='median')),\n",
    "                ('RF', RandomForestClassifier(random_state=123))])\n",
    "\n",
    "model3=Pipeline([('imputation', SimpleImputer(strategy='constant', fill_value=0)),\n",
    "                ('RF', RandomForestClassifier(random_state=123))])\n",
    "\n",
    "model4=Pipeline([('imputation', KNNImputer()),\n",
    "                ('RF', RandomForestClassifier(random_state=123))])\n",
    "\n",
    "model5=Pipeline([('imputation', IterativeImputer(random_state=123)),\n",
    "                ('RF', RandomForestClassifier(random_state=123))])"
   ]
  },
  {
   "cell_type": "code",
   "execution_count": 557,
   "metadata": {},
   "outputs": [],
   "source": [
    "cv_results = []\n",
    "for model in [model1, model2, model3, model4, model5]:\n",
    "    cv_results.append(cross_val_score(model, X, y, scoring = \"accuracy\", cv = 5))"
   ]
  },
  {
   "cell_type": "code",
   "execution_count": 558,
   "metadata": {},
   "outputs": [],
   "source": [
    "cv_means = []\n",
    "cv_std = []\n",
    "for cv_result in cv_results:\n",
    "    cv_means.append(cv_result.mean())\n",
    "    cv_std.append(cv_result.std())"
   ]
  },
  {
   "cell_type": "code",
   "execution_count": 559,
   "metadata": {},
   "outputs": [],
   "source": [
    "cv_res = pd.DataFrame({'Algorithm': ['Mean imputation', 'Medium imputation', 'Constant imputation (0)',\n",
    "                                    'KNN imputation', 'Multiple Regression imputation'],\n",
    "                     'Accuracy_mean': cv_means, \n",
    "                     'Accuracy_std': cv_std})"
   ]
  },
  {
   "cell_type": "code",
   "execution_count": 560,
   "metadata": {},
   "outputs": [
    {
     "data": {
      "text/html": [
       "<div>\n",
       "<style scoped>\n",
       "    .dataframe tbody tr th:only-of-type {\n",
       "        vertical-align: middle;\n",
       "    }\n",
       "\n",
       "    .dataframe tbody tr th {\n",
       "        vertical-align: top;\n",
       "    }\n",
       "\n",
       "    .dataframe thead th {\n",
       "        text-align: right;\n",
       "    }\n",
       "</style>\n",
       "<table border=\"1\" class=\"dataframe\">\n",
       "  <thead>\n",
       "    <tr style=\"text-align: right;\">\n",
       "      <th></th>\n",
       "      <th>Algorithm</th>\n",
       "      <th>Accuracy_mean</th>\n",
       "      <th>Accuracy_std</th>\n",
       "    </tr>\n",
       "  </thead>\n",
       "  <tbody>\n",
       "    <tr>\n",
       "      <th>3</th>\n",
       "      <td>KNN imputation</td>\n",
       "      <td>0.873333</td>\n",
       "      <td>0.057349</td>\n",
       "    </tr>\n",
       "    <tr>\n",
       "      <th>4</th>\n",
       "      <td>Multiple Regression imputation</td>\n",
       "      <td>0.866667</td>\n",
       "      <td>0.055777</td>\n",
       "    </tr>\n",
       "    <tr>\n",
       "      <th>1</th>\n",
       "      <td>Medium imputation</td>\n",
       "      <td>0.853333</td>\n",
       "      <td>0.054160</td>\n",
       "    </tr>\n",
       "    <tr>\n",
       "      <th>0</th>\n",
       "      <td>Mean imputation</td>\n",
       "      <td>0.846667</td>\n",
       "      <td>0.054160</td>\n",
       "    </tr>\n",
       "    <tr>\n",
       "      <th>2</th>\n",
       "      <td>Constant imputation (0)</td>\n",
       "      <td>0.846667</td>\n",
       "      <td>0.074833</td>\n",
       "    </tr>\n",
       "  </tbody>\n",
       "</table>\n",
       "</div>"
      ],
      "text/plain": [
       "                        Algorithm  Accuracy_mean  Accuracy_std\n",
       "3                  KNN imputation       0.873333      0.057349\n",
       "4  Multiple Regression imputation       0.866667      0.055777\n",
       "1               Medium imputation       0.853333      0.054160\n",
       "0                 Mean imputation       0.846667      0.054160\n",
       "2         Constant imputation (0)       0.846667      0.074833"
      ]
     },
     "execution_count": 560,
     "metadata": {},
     "output_type": "execute_result"
    }
   ],
   "source": [
    "cv_res.sort_values('Accuracy_mean', ascending=False)"
   ]
  },
  {
   "cell_type": "code",
   "execution_count": 561,
   "metadata": {},
   "outputs": [
    {
     "data": {
      "image/png": "[encoded data removed]",
      "text/plain": [
       "<Figure size 432x288 with 1 Axes>"
      ]
     },
     "metadata": {
      "needs_background": "light"
     },
     "output_type": "display_data"
    }
   ],
   "source": [
    "sns.barplot(\"Accuracy_mean\", \"Algorithm\", data = cv_res.sort_values('Accuracy_mean', ascending=False), \n",
    "            palette=\"Set1\", orient = \"h\", **{'xerr':cv_std})\n",
    "\n",
    "plt.title(\"Model Accuracy\")\n",
    "plt.show()"
   ]
  },
  {
   "cell_type": "code",
   "execution_count": null,
   "metadata": {},
   "outputs": [],
   "source": []
  },
  {
   "cell_type": "code",
   "execution_count": null,
   "metadata": {},
   "outputs": [],
   "source": []
  },
  {
   "cell_type": "code",
   "execution_count": null,
   "metadata": {},
   "outputs": [],
   "source": []
  },
  {
   "cell_type": "code",
   "execution_count": 554,
   "metadata": {},
   "outputs": [
    {
     "data": {
      "text/html": [
       "<div>\n",
       "<style scoped>\n",
       "    .dataframe tbody tr th:only-of-type {\n",
       "        vertical-align: middle;\n",
       "    }\n",
       "\n",
       "    .dataframe tbody tr th {\n",
       "        vertical-align: top;\n",
       "    }\n",
       "\n",
       "    .dataframe thead th {\n",
       "        text-align: right;\n",
       "    }\n",
       "</style>\n",
       "<table border=\"1\" class=\"dataframe\">\n",
       "  <thead>\n",
       "    <tr style=\"text-align: right;\">\n",
       "      <th></th>\n",
       "      <th>Algorithm</th>\n",
       "      <th>Accuracy_mean</th>\n",
       "      <th>Accuracy_std</th>\n",
       "    </tr>\n",
       "  </thead>\n",
       "  <tbody>\n",
       "    <tr>\n",
       "      <th>3</th>\n",
       "      <td>KNN imputation</td>\n",
       "      <td>0.846667</td>\n",
       "      <td>0.191021</td>\n",
       "    </tr>\n",
       "    <tr>\n",
       "      <th>4</th>\n",
       "      <td>Multiple Regression imputation</td>\n",
       "      <td>0.846667</td>\n",
       "      <td>0.191021</td>\n",
       "    </tr>\n",
       "    <tr>\n",
       "      <th>0</th>\n",
       "      <td>Mean imputation</td>\n",
       "      <td>0.833333</td>\n",
       "      <td>0.191485</td>\n",
       "    </tr>\n",
       "    <tr>\n",
       "      <th>2</th>\n",
       "      <td>Constant imputation (0)</td>\n",
       "      <td>0.833333</td>\n",
       "      <td>0.191485</td>\n",
       "    </tr>\n",
       "    <tr>\n",
       "      <th>1</th>\n",
       "      <td>Medium imputation</td>\n",
       "      <td>0.820000</td>\n",
       "      <td>0.202320</td>\n",
       "    </tr>\n",
       "  </tbody>\n",
       "</table>\n",
       "</div>"
      ],
      "text/plain": [
       "                        Algorithm  Accuracy_mean  Accuracy_std\n",
       "3                  KNN imputation       0.846667      0.191021\n",
       "4  Multiple Regression imputation       0.846667      0.191021\n",
       "0                 Mean imputation       0.833333      0.191485\n",
       "2         Constant imputation (0)       0.833333      0.191485\n",
       "1               Medium imputation       0.820000      0.202320"
      ]
     },
     "execution_count": 554,
     "metadata": {},
     "output_type": "execute_result"
    }
   ],
   "source": [
    "cv_res_imputation.sort_values('Accuracy_mean', ascending=False)"
   ]
  },
  {
   "cell_type": "code",
   "execution_count": 501,
   "metadata": {},
   "outputs": [],
   "source": [
    "cv_res_twovars.sort_values('Accuracy_mean', ascending=False)"
   ]
  },
  {
   "cell_type": "code",
   "execution_count": null,
   "metadata": {},
   "outputs": [],
   "source": [
    "0.72 to 0.91"
   ]
  }
 ],
 "metadata": {
  "kernelspec": {
   "display_name": "Python 3",
   "language": "python",
   "name": "python3"
  },
  "language_info": {
   "codemirror_mode": {
    "name": "ipython",
    "version": 3
   },
   "file_extension": ".py",
   "mimetype": "text/x-python",
   "name": "python",
   "nbconvert_exporter": "python",
   "pygments_lexer": "ipython3",
   "version": "3.8.3"
  }
 },
 "nbformat": 4,
 "nbformat_minor": 4
}
